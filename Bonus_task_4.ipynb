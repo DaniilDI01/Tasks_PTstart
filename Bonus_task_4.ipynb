{
 "cells": [
  {
   "cell_type": "markdown",
   "metadata": {},
   "source": [
    "Задача программы - найти аномалии в почтовых доменах и выделить их в отдельную базу\n",
    "\n",
    "input:\n",
    "1) Путь к zip архиву \n",
    "2) Пароль от архива (в случае отсутствия пустая строка)\n",
    "\n",
    "output:\n",
    "1) .txt файл со строками содержащими домены, встречающиеся реже всех остальных\n",
    "\n",
    "Комментарии:\n",
    "Главная трудность, с которой я столкнулся - это медленность python. Переписать программу на Си, у меня не получилось. Пришлось не делать унивирсальность для разных форматов, а ограничится лишь txt файлами.\n",
    "Ну то что выводятся только домены с минимальными встречами в файле условность, конечно, можно добавть и те домены, которые встречаюися на 2-м месте, считаю в данном случае это неважно.\n",
    "\n",
    "Алггоритм программы:\n",
    "1. Перебираем txt файлы в архиве (в каждом сразу же перебираем строки в них)\n",
    "2. Считаем количество каждого почтового домена (считаем доменом)\n",
    "3. Когда закончили перебор, начинаем перебирать заного и добавляя в отдельную базу те строки, домены в которых встречаются реже всего"
   ]
  },
  {
   "cell_type": "code",
   "execution_count": null,
   "metadata": {},
   "outputs": [],
   "source": [
    "import zipfile\n",
    "from collections import Counter\n",
    "import re"
   ]
  },
  {
   "cell_type": "code",
   "execution_count": null,
   "metadata": {},
   "outputs": [],
   "source": [
    "zip_path = 'b.zip'  # путь к архиву\n",
    "password = ''       # Пароль\n",
    "output_file = 'output.txt'"
   ]
  },
  {
   "cell_type": "code",
   "execution_count": null,
   "metadata": {},
   "outputs": [],
   "source": [
    "def open_zip(zip_path, password):\n",
    "    all_emails = []  # Список для хранения всех найденных электронных почт\n",
    "    \n",
    "    with zipfile.ZipFile(zip_path) as z:\n",
    "        z.setpassword(password.encode())\n",
    "        for txt_file in z.namelist():\n",
    "            if txt_file.endswith('.txt'):  # Проверяем, является ли файл текстовым\n",
    "                with z.open(txt_file) as f:\n",
    "                    content = f.read().decode('utf-8')  # Читаем содержимое файла\n",
    "                    # Находим все электронные почты с помощью регулярного выражения\n",
    "                    emails = re.findall(r'[a-zA-Z0-9._%+-]+@[a-zA-Z0-9.-]+\\.[a-zA-Z]{2,}', content)\n",
    "                    all_emails.extend(emails)  # Добавляем найденные почты в общий список\n",
    "    \n",
    "    return all_emails  # Возвращаем список всех электронных почт\n",
    "\n",
    "def L_domains(emails):\n",
    "    domains = [email.split('@')[1] for email in emails] # Извлекаем домены из электронных почт\n",
    "    domain_counts = Counter(domains)\n",
    "    \n",
    "    min_count = min(domain_counts.values())\n",
    "    least_common_domains = {domain for domain, count in domain_counts.items() if count == min_count} # Самые редкие домены\n",
    "    \n",
    "    return least_common_domains  # Возвращаем набор редких доменов"
   ]
  },
  {
   "cell_type": "code",
   "execution_count": null,
   "metadata": {},
   "outputs": [],
   "source": [
    "def main(zip_path, password, output_file):\n",
    "    # Извлекаем все электронные почты из ZIP-архива\n",
    "    all_emails = open_zip(zip_path, password)\n",
    "    # Получаем редкие домены\n",
    "    least_common_domains = L_domains(all_emails)\n",
    "    # Фильтруем электронные почты по редким доменам\n",
    "    least_common_emails = [email for email in all_emails if email.split('@')[1] in least_common_domains]\n",
    "\n",
    "    # Сохраняем результат в текстовый файл\n",
    "    with open(output_file, 'w') as f:\n",
    "        for email in least_common_emails:\n",
    "            f.write(email + '\\n')  # Записываем каждую редкую электронную почту в файл\n",
    "main(zip_path, password, output_file)"
   ]
  }
 ],
 "metadata": {
  "language_info": {
   "name": "python"
  }
 },
 "nbformat": 4,
 "nbformat_minor": 2
}
